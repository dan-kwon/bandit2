{
 "cells": [
  {
   "cell_type": "code",
   "execution_count": 1,
   "metadata": {},
   "outputs": [],
   "source": [
    "import random\n",
    "import numpy as np\n",
    "import pandas as pd\n",
    "import seaborn as sns\n",
    "import matplotlib.pyplot as plt\n",
    "from src.bandit.algorithms.standard import EpsilonGreedy\n",
    "from src.bandit.arms.bernoulli import BernoulliArm\n",
    "from src.bandit.testing.monte_carlo import test_algorithm"
   ]
  },
  {
   "attachments": {},
   "cell_type": "markdown",
   "metadata": {},
   "source": [
    "##### Initialize algorithm with the best known counts and values"
   ]
  },
  {
   "cell_type": "code",
   "execution_count": 29,
   "metadata": {},
   "outputs": [],
   "source": [
    "arm_names=[\"10 then 40\", \"20 then 40\", \"10 only\", \"40 only\"]\n",
    "\n",
    "obs_conv_rates  = [0.10, 0.00, 0.03, 0.00]\n",
    "obs_rewards     = [75.0, 70.0, 90.0, 60.0]\n",
    "true_conv_rates = [0.15, 0.20, 0.14, 0.17]\n",
    "true_rewards    = [85.0, 75.0, 90.0, 60.0]\n",
    "starting_counts = [1, 1, 1, 1]\n",
    "\n",
    "algo = EpsilonGreedy(\n",
    "    epsilon=0.2,\n",
    "    n_arms=4,\n",
    "    rewards= obs_rewards,\n",
    "    conv_rates=obs_conv_rates,\n",
    "    counts=starting_counts\n",
    ")\n",
    "\n",
    "arms = [BernoulliArm(i) for i in true_conv_rates]"
   ]
  },
  {
   "cell_type": "code",
   "execution_count": 30,
   "metadata": {},
   "outputs": [
    {
     "name": "stdout",
     "output_type": "stream",
     "text": [
      "7.5\n",
      "0.0\n",
      "2.6999999999999997\n",
      "0.0\n"
     ]
    }
   ],
   "source": [
    "for i in getattr(algo, \"values\"):\n",
    "    print(i)"
   ]
  },
  {
   "attachments": {},
   "cell_type": "markdown",
   "metadata": {},
   "source": [
    "##### Assign discount for each user"
   ]
  },
  {
   "cell_type": "code",
   "execution_count": 19,
   "metadata": {},
   "outputs": [
    {
     "data": {
      "text/html": [
       "<div>\n",
       "<style scoped>\n",
       "    .dataframe tbody tr th:only-of-type {\n",
       "        vertical-align: middle;\n",
       "    }\n",
       "\n",
       "    .dataframe tbody tr th {\n",
       "        vertical-align: top;\n",
       "    }\n",
       "\n",
       "    .dataframe thead th {\n",
       "        text-align: right;\n",
       "    }\n",
       "</style>\n",
       "<table border=\"1\" class=\"dataframe\">\n",
       "  <thead>\n",
       "    <tr style=\"text-align: right;\">\n",
       "      <th></th>\n",
       "      <th>arm</th>\n",
       "      <th>conversion</th>\n",
       "      <th>reward</th>\n",
       "      <th>count</th>\n",
       "    </tr>\n",
       "  </thead>\n",
       "  <tbody>\n",
       "    <tr>\n",
       "      <th>0</th>\n",
       "      <td>0</td>\n",
       "      <td>0.155556</td>\n",
       "      <td>13.222222</td>\n",
       "      <td>90</td>\n",
       "    </tr>\n",
       "    <tr>\n",
       "      <th>1</th>\n",
       "      <td>1</td>\n",
       "      <td>0.000000</td>\n",
       "      <td>0.000000</td>\n",
       "      <td>2</td>\n",
       "    </tr>\n",
       "    <tr>\n",
       "      <th>2</th>\n",
       "      <td>2</td>\n",
       "      <td>0.000000</td>\n",
       "      <td>0.000000</td>\n",
       "      <td>3</td>\n",
       "    </tr>\n",
       "    <tr>\n",
       "      <th>3</th>\n",
       "      <td>3</td>\n",
       "      <td>0.200000</td>\n",
       "      <td>12.000000</td>\n",
       "      <td>5</td>\n",
       "    </tr>\n",
       "  </tbody>\n",
       "</table>\n",
       "</div>"
      ],
      "text/plain": [
       "   arm  conversion     reward  count\n",
       "0    0    0.155556  13.222222     90\n",
       "1    1    0.000000   0.000000      2\n",
       "2    2    0.000000   0.000000      3\n",
       "3    3    0.200000  12.000000      5"
      ]
     },
     "execution_count": 19,
     "metadata": {},
     "output_type": "execute_result"
    }
   ],
   "source": [
    "latest_performance = users.groupby([\"arm\"]).mean([\"conversion\",\"reward\"]).reset_index()[[\"arm\",\"conversion\",\"reward\"]]\n",
    "latest_performance[\"count\"] = users.groupby([\"arm\"]).count().reset_index()[\"reward\"]\n",
    "\n",
    "latest_performance"
   ]
  },
  {
   "cell_type": "code",
   "execution_count": 43,
   "metadata": {},
   "outputs": [],
   "source": [
    "\n",
    "\n"
   ]
  },
  {
   "cell_type": "code",
   "execution_count": 47,
   "metadata": {},
   "outputs": [],
   "source": [
    "results = pd.DataFrame(columns=[\"sim\",\"arm\",\"conversion\",\"reward\"])\n",
    "prev_counts = starting_counts\n",
    "prev_rewards = obs_rewards\n",
    "prev_conv_rates = obs_conv_rates\n",
    "\n",
    "for i in range(10):\n",
    "    # generate 100 users\n",
    "    users = pd.DataFrame(\n",
    "        data={\n",
    "            \"ID\": range(0,100)\n",
    "        }\n",
    "    )\n",
    "\n",
    "    # simulate user outcomes\n",
    "    users[\"arm\"] = [algo.select_arm() for i in users[\"ID\"]]\n",
    "    users[\"conversion\"] = [arms[i].draw() for i in users[\"arm\"]]\n",
    "    users[\"reward\"] = [true_rewards[i]*j for i,j in zip(users[\"arm\"], users[\"conversion\"])]\n",
    "    latest_performance = users.groupby([\"arm\"]).mean([\"conversion\",\"reward\"]).reset_index()[[\"arm\",\"conversion\"]]\n",
    "    latest_performance[\"reward\"] = users.query(\"reward > 0.0\").groupby([\"arm\"]).mean([\"reward\"]).reset_index()[[\"reward\"]]\n",
    "    latest_performance[\"count\"] = users.groupby([\"arm\"]).count().reset_index()[\"reward\"]\n",
    "    latest_performance[\"sim\"] = i\n",
    "    latest_performance.fillna(0, inplace=True)\n",
    "\n",
    "    # update values\n",
    "    next_counts = [a+b for a,b in zip(prev_counts, latest_performance[\"count\"])]\n",
    "    next_rewards = [(a/(a+b)*c)+(b/(a+b)*d) for a,b,c,d in zip(prev_counts, next_counts, prev_rewards, latest_performance[\"reward\"])]\n",
    "    next_conv_rates = [(a/(a+b)*c)+(b/(a+b)*d) for a,b,c,d in zip(prev_counts, next_counts, prev_conv_rates, latest_performance[\"conversion\"])]\n",
    "\n",
    "    # save latest performance\n",
    "    results = pd.concat([results, latest_performance])\n",
    "    \n",
    "    # update assumptions for bandit\n",
    "    algo = EpsilonGreedy(\n",
    "        epsilon=0.2,\n",
    "        n_arms=4,\n",
    "        rewards= next_rewards,\n",
    "        conv_rates=next_conv_rates,\n",
    "        counts=next_counts\n",
    "    )"
   ]
  },
  {
   "cell_type": "code",
   "execution_count": 51,
   "metadata": {},
   "outputs": [
    {
     "data": {
      "text/html": [
       "<div>\n",
       "<style scoped>\n",
       "    .dataframe tbody tr th:only-of-type {\n",
       "        vertical-align: middle;\n",
       "    }\n",
       "\n",
       "    .dataframe tbody tr th {\n",
       "        vertical-align: top;\n",
       "    }\n",
       "\n",
       "    .dataframe thead th {\n",
       "        text-align: right;\n",
       "    }\n",
       "</style>\n",
       "<table border=\"1\" class=\"dataframe\">\n",
       "  <thead>\n",
       "    <tr style=\"text-align: right;\">\n",
       "      <th></th>\n",
       "      <th>sim</th>\n",
       "      <th>arm</th>\n",
       "      <th>conversion</th>\n",
       "      <th>reward</th>\n",
       "      <th>count</th>\n",
       "    </tr>\n",
       "  </thead>\n",
       "  <tbody>\n",
       "    <tr>\n",
       "      <th>3</th>\n",
       "      <td>0</td>\n",
       "      <td>3</td>\n",
       "      <td>0.200000</td>\n",
       "      <td>60.0</td>\n",
       "      <td>5.0</td>\n",
       "    </tr>\n",
       "    <tr>\n",
       "      <th>3</th>\n",
       "      <td>1</td>\n",
       "      <td>3</td>\n",
       "      <td>0.000000</td>\n",
       "      <td>0.0</td>\n",
       "      <td>5.0</td>\n",
       "    </tr>\n",
       "    <tr>\n",
       "      <th>3</th>\n",
       "      <td>2</td>\n",
       "      <td>3</td>\n",
       "      <td>0.000000</td>\n",
       "      <td>0.0</td>\n",
       "      <td>4.0</td>\n",
       "    </tr>\n",
       "    <tr>\n",
       "      <th>3</th>\n",
       "      <td>3</td>\n",
       "      <td>3</td>\n",
       "      <td>0.600000</td>\n",
       "      <td>0.0</td>\n",
       "      <td>5.0</td>\n",
       "    </tr>\n",
       "    <tr>\n",
       "      <th>3</th>\n",
       "      <td>4</td>\n",
       "      <td>3</td>\n",
       "      <td>0.500000</td>\n",
       "      <td>60.0</td>\n",
       "      <td>2.0</td>\n",
       "    </tr>\n",
       "    <tr>\n",
       "      <th>3</th>\n",
       "      <td>5</td>\n",
       "      <td>3</td>\n",
       "      <td>0.000000</td>\n",
       "      <td>0.0</td>\n",
       "      <td>6.0</td>\n",
       "    </tr>\n",
       "    <tr>\n",
       "      <th>3</th>\n",
       "      <td>6</td>\n",
       "      <td>3</td>\n",
       "      <td>0.666667</td>\n",
       "      <td>0.0</td>\n",
       "      <td>3.0</td>\n",
       "    </tr>\n",
       "    <tr>\n",
       "      <th>3</th>\n",
       "      <td>7</td>\n",
       "      <td>3</td>\n",
       "      <td>0.000000</td>\n",
       "      <td>0.0</td>\n",
       "      <td>5.0</td>\n",
       "    </tr>\n",
       "    <tr>\n",
       "      <th>3</th>\n",
       "      <td>8</td>\n",
       "      <td>3</td>\n",
       "      <td>0.333333</td>\n",
       "      <td>0.0</td>\n",
       "      <td>3.0</td>\n",
       "    </tr>\n",
       "    <tr>\n",
       "      <th>3</th>\n",
       "      <td>9</td>\n",
       "      <td>3</td>\n",
       "      <td>0.142857</td>\n",
       "      <td>0.0</td>\n",
       "      <td>7.0</td>\n",
       "    </tr>\n",
       "  </tbody>\n",
       "</table>\n",
       "</div>"
      ],
      "text/plain": [
       "  sim arm  conversion  reward  count\n",
       "3   0   3    0.200000    60.0    5.0\n",
       "3   1   3    0.000000     0.0    5.0\n",
       "3   2   3    0.000000     0.0    4.0\n",
       "3   3   3    0.600000     0.0    5.0\n",
       "3   4   3    0.500000    60.0    2.0\n",
       "3   5   3    0.000000     0.0    6.0\n",
       "3   6   3    0.666667     0.0    3.0\n",
       "3   7   3    0.000000     0.0    5.0\n",
       "3   8   3    0.333333     0.0    3.0\n",
       "3   9   3    0.142857     0.0    7.0"
      ]
     },
     "execution_count": 51,
     "metadata": {},
     "output_type": "execute_result"
    }
   ],
   "source": [
    "results.query(\"arm==3\")"
   ]
  },
  {
   "attachments": {},
   "cell_type": "markdown",
   "metadata": {},
   "source": [
    "##### Gather conversion rates and update assumptions"
   ]
  },
  {
   "attachments": {},
   "cell_type": "markdown",
   "metadata": {},
   "source": [
    "new"
   ]
  }
 ],
 "metadata": {
  "kernelspec": {
   "display_name": "Python 3",
   "language": "python",
   "name": "python3"
  },
  "language_info": {
   "codemirror_mode": {
    "name": "ipython",
    "version": 3
   },
   "file_extension": ".py",
   "mimetype": "text/x-python",
   "name": "python",
   "nbconvert_exporter": "python",
   "pygments_lexer": "ipython3",
   "version": "3.10.0"
  },
  "orig_nbformat": 4,
  "vscode": {
   "interpreter": {
    "hash": "ea1f1b75962e8479cdd31f745f7b88aa0f718a153ab100a859b7ce2822faba81"
   }
  }
 },
 "nbformat": 4,
 "nbformat_minor": 2
}
