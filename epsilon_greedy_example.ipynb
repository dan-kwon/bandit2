{
 "cells": [
  {
   "cell_type": "code",
   "execution_count": 1,
   "metadata": {},
   "outputs": [],
   "source": [
    "import random\n",
    "import numpy as np\n",
    "import pandas as pd\n",
    "import seaborn as sns\n",
    "import matplotlib.pyplot as plt\n",
    "from src.bandit.algorithms.standard import EpsilonGreedy\n",
    "from src.bandit.arms.bernoulli import BernoulliArm\n",
    "from src.bandit.testing.monte_carlo import test_algorithm"
   ]
  },
  {
   "cell_type": "code",
   "execution_count": 9,
   "metadata": {},
   "outputs": [
    {
     "data": {
      "text/plain": [
       "1"
      ]
     },
     "execution_count": 9,
     "metadata": {},
     "output_type": "execute_result"
    }
   ],
   "source": [
    "x = [0,1,1,1]\n",
    "m = max(x)\n",
    "x.index(m)"
   ]
  },
  {
   "cell_type": "code",
   "execution_count": null,
   "metadata": {},
   "outputs": [],
   "source": [
    "reward_amounts = [30, 36, 42, 48, 60] # reward from each arm\n",
    "means = [0.35, 0.33, 0.30, 0.25, 0.20]  # probability of conversion\n",
    "n_arms = len(reward_amounts)"
   ]
  },
  {
   "cell_type": "code",
   "execution_count": null,
   "metadata": {},
   "outputs": [],
   "source": [
    "test_results = pd.DataFrame(columns=[\"group\",\"sim_num\",\"time\",\"chosen_arm\",\"reward\",\"cumulative_reward\"])\n",
    "\n",
    "arms = [BernoulliArm(i) for i in means]\n",
    "algo = EpsilonGreedy(0.4,[],[])\n",
    "algo.initialize(n_arms)\n",
    "\n",
    "results = test_algorithm(\n",
    "    algo=algo, \n",
    "    arms=arms, \n",
    "    reward_amounts=reward_amounts,\n",
    "    n_iter=50, \n",
    "    horizon=1000\n",
    ")\n",
    "\n",
    "data = {\n",
    "    \"sim_num\": results[0],\n",
    "    \"time\": results[1],\n",
    "    \"chosen_arm\": results[2],\n",
    "    \"reward\": results[3],\n",
    "    \"cumulative_reward\": results[4]\n",
    "}\n",
    "\n",
    "result = pd.DataFrame(data = data)\n",
    "\n",
    "test_results = pd.concat([test_results, result])"
   ]
  },
  {
   "cell_type": "code",
   "execution_count": null,
   "metadata": {},
   "outputs": [],
   "source": [
    "test_results.head(25)"
   ]
  },
  {
   "cell_type": "code",
   "execution_count": null,
   "metadata": {},
   "outputs": [],
   "source": [
    "sns.lineplot(\n",
    "    x=test_results[\"time\"],\n",
    "    y=test_results[\"cumulative_reward\"],\n",
    "    hue=test_results[\"group\"]\n",
    ")"
   ]
  },
  {
   "cell_type": "code",
   "execution_count": null,
   "metadata": {},
   "outputs": [],
   "source": [
    "test_results.iloc[400:,:].groupby([\"group\",\"chosen_arm\"]).mean([\"reward\"])"
   ]
  },
  {
   "cell_type": "code",
   "execution_count": null,
   "metadata": {},
   "outputs": [],
   "source": [
    "sns.histplot(\n",
    "    data=test_results.query(\"group=='low engagement'\"),\n",
    "    x=\"reward\",\n",
    "    hue=test_results.query(\"group=='low engagement' & reward > 0\")[\"chosen_arm\"].astype(str),\n",
    "    common_bins=True,\n",
    "    common_norm=False,\n",
    "    kde=True,\n",
    "    stat=\"probability\",\n",
    "    alpha=0.2 \n",
    ")"
   ]
  },
  {
   "cell_type": "code",
   "execution_count": null,
   "metadata": {},
   "outputs": [],
   "source": [
    "burn_in_period = 200\n",
    "test_results.query(f\"epsilon==0.2 & time>{burn_in_period}\")\n",
    "sns.histplot(\n",
    "    data=np.log1p(test_results.query(f\"epsilon==0.2 & time>{burn_in_period}\")),\n",
    "    x=\"reward\",\n",
    "    hue=\"chosen_arm\",\n",
    "    stat=\"probability\",\n",
    "    common_norm=\"false\",\n",
    "    common_bins=\"false\"\n",
    ")"
   ]
  },
  {
   "cell_type": "code",
   "execution_count": null,
   "metadata": {},
   "outputs": [],
   "source": [
    "test_results.query(\"epsilon==0.2 & time==200\").groupby(\"chosen_arm\").mean(\"reward\")"
   ]
  },
  {
   "cell_type": "code",
   "execution_count": null,
   "metadata": {},
   "outputs": [],
   "source": [
    "test_results.query(\"epsilon==0.4 & time==200\")"
   ]
  },
  {
   "cell_type": "code",
   "execution_count": null,
   "metadata": {},
   "outputs": [],
   "source": [
    "sns.lineplot(\n",
    "    data=test_results, \n",
    "    x=\"time\", \n",
    "    y=\"reward\",\n",
    "    hue=\"epsilon\")"
   ]
  },
  {
   "attachments": {},
   "cell_type": "markdown",
   "metadata": {},
   "source": [
    "##### Generate fake users"
   ]
  },
  {
   "attachments": {},
   "cell_type": "markdown",
   "metadata": {},
   "source": [
    "##### Initialize algorithm with the best known counts and values"
   ]
  },
  {
   "cell_type": "code",
   "execution_count": 1,
   "metadata": {},
   "outputs": [
    {
     "ename": "NameError",
     "evalue": "name 'EpsilonGreedy' is not defined",
     "output_type": "error",
     "traceback": [
      "\u001b[0;31m---------------------------------------------------------------------------\u001b[0m",
      "\u001b[0;31mNameError\u001b[0m                                 Traceback (most recent call last)",
      "\u001b[1;32m/Users/danielkwon/Projects/bandit/epsilon_greedy_example.ipynb Cell 15\u001b[0m in \u001b[0;36m<cell line: 9>\u001b[0;34m()\u001b[0m\n\u001b[1;32m      <a href='vscode-notebook-cell:/Users/danielkwon/Projects/bandit/epsilon_greedy_example.ipynb#X20sZmlsZQ%3D%3D?line=5'>6</a>\u001b[0m true_conv_rates\u001b[39m=\u001b[39m[\u001b[39m0.15\u001b[39m, \u001b[39m0.20\u001b[39m, \u001b[39m0.14\u001b[39m, \u001b[39m0.17\u001b[39m]\n\u001b[1;32m      <a href='vscode-notebook-cell:/Users/danielkwon/Projects/bandit/epsilon_greedy_example.ipynb#X20sZmlsZQ%3D%3D?line=6'>7</a>\u001b[0m true_rewards \u001b[39m=\u001b[39m [\u001b[39m85\u001b[39m, \u001b[39m75\u001b[39m, \u001b[39m90\u001b[39m, \u001b[39m60\u001b[39m]\n\u001b[0;32m----> <a href='vscode-notebook-cell:/Users/danielkwon/Projects/bandit/epsilon_greedy_example.ipynb#X20sZmlsZQ%3D%3D?line=8'>9</a>\u001b[0m algo \u001b[39m=\u001b[39m EpsilonGreedy(\n\u001b[1;32m     <a href='vscode-notebook-cell:/Users/danielkwon/Projects/bandit/epsilon_greedy_example.ipynb#X20sZmlsZQ%3D%3D?line=9'>10</a>\u001b[0m     epsilon\u001b[39m=\u001b[39m\u001b[39m0.2\u001b[39m,\n\u001b[1;32m     <a href='vscode-notebook-cell:/Users/danielkwon/Projects/bandit/epsilon_greedy_example.ipynb#X20sZmlsZQ%3D%3D?line=10'>11</a>\u001b[0m     n_arms\u001b[39m=\u001b[39m\u001b[39m4\u001b[39m,\n\u001b[1;32m     <a href='vscode-notebook-cell:/Users/danielkwon/Projects/bandit/epsilon_greedy_example.ipynb#X20sZmlsZQ%3D%3D?line=11'>12</a>\u001b[0m     rewards\u001b[39m=\u001b[39m obs_rewards,\n\u001b[1;32m     <a href='vscode-notebook-cell:/Users/danielkwon/Projects/bandit/epsilon_greedy_example.ipynb#X20sZmlsZQ%3D%3D?line=12'>13</a>\u001b[0m     conv_rates\u001b[39m=\u001b[39mobs_conv_rates,\n\u001b[1;32m     <a href='vscode-notebook-cell:/Users/danielkwon/Projects/bandit/epsilon_greedy_example.ipynb#X20sZmlsZQ%3D%3D?line=13'>14</a>\u001b[0m     counts\u001b[39m=\u001b[39mstarting_counts\n\u001b[1;32m     <a href='vscode-notebook-cell:/Users/danielkwon/Projects/bandit/epsilon_greedy_example.ipynb#X20sZmlsZQ%3D%3D?line=14'>15</a>\u001b[0m )\n\u001b[1;32m     <a href='vscode-notebook-cell:/Users/danielkwon/Projects/bandit/epsilon_greedy_example.ipynb#X20sZmlsZQ%3D%3D?line=16'>17</a>\u001b[0m arms \u001b[39m=\u001b[39m [BernoulliArm(i) \u001b[39mfor\u001b[39;00m i \u001b[39min\u001b[39;00m true_conv_rates]\n",
      "\u001b[0;31mNameError\u001b[0m: name 'EpsilonGreedy' is not defined"
     ]
    }
   ],
   "source": [
    "arm_names=[\"10 then 40\", \"20 then 40\", \"10 only\", \"40 only\"]\n",
    "\n",
    "obs_conv_rates=[0.10, 0, 0.03, 0]\n",
    "obs_rewards = [75, 70, 90, 60]\n",
    "starting_counts = [1, 1, 1, 1]\n",
    "true_conv_rates=[0.15, 0.20, 0.14, 0.17]\n",
    "true_rewards = [85, 75, 90, 60]\n",
    "\n",
    "algo = EpsilonGreedy(\n",
    "    epsilon=0.2,\n",
    "    n_arms=4,\n",
    "    rewards= obs_rewards,\n",
    "    conv_rates=obs_conv_rates,\n",
    "    counts=starting_counts\n",
    ")\n",
    "\n",
    "arms = [BernoulliArm(i) for i in true_conv_rates]"
   ]
  },
  {
   "attachments": {},
   "cell_type": "markdown",
   "metadata": {},
   "source": [
    "##### Assign discount for each user"
   ]
  },
  {
   "cell_type": "code",
   "execution_count": 81,
   "metadata": {},
   "outputs": [],
   "source": [
    "latest_performance = users.\\\n",
    "    groupby([\"arm\"]).\\\n",
    "        agg(\n",
    "            {\n",
    "                \"arm\": [\"count\"],\n",
    "                \"conversion\": [\"mean\"],\n",
    "                \"reward\": [\"mean\"]\n",
    "            }).reset_index()[[\"arm\",\"conversion\",\"reward\"]]"
   ]
  },
  {
   "cell_type": "code",
   "execution_count": 84,
   "metadata": {},
   "outputs": [
    {
     "data": {
      "text/html": [
       "<div>\n",
       "<style scoped>\n",
       "    .dataframe tbody tr th:only-of-type {\n",
       "        vertical-align: middle;\n",
       "    }\n",
       "\n",
       "    .dataframe tbody tr th {\n",
       "        vertical-align: top;\n",
       "    }\n",
       "\n",
       "    .dataframe thead tr th {\n",
       "        text-align: left;\n",
       "    }\n",
       "</style>\n",
       "<table border=\"1\" class=\"dataframe\">\n",
       "  <thead>\n",
       "    <tr>\n",
       "      <th></th>\n",
       "      <th colspan=\"2\" halign=\"left\">arm</th>\n",
       "      <th>conversion</th>\n",
       "      <th>reward</th>\n",
       "    </tr>\n",
       "    <tr>\n",
       "      <th></th>\n",
       "      <th></th>\n",
       "      <th>count</th>\n",
       "      <th>mean</th>\n",
       "      <th>mean</th>\n",
       "    </tr>\n",
       "  </thead>\n",
       "  <tbody>\n",
       "    <tr>\n",
       "      <th>0</th>\n",
       "      <td>0</td>\n",
       "      <td>86</td>\n",
       "      <td>0.139535</td>\n",
       "      <td>11.860465</td>\n",
       "    </tr>\n",
       "    <tr>\n",
       "      <th>1</th>\n",
       "      <td>1</td>\n",
       "      <td>4</td>\n",
       "      <td>0.250000</td>\n",
       "      <td>18.750000</td>\n",
       "    </tr>\n",
       "    <tr>\n",
       "      <th>2</th>\n",
       "      <td>2</td>\n",
       "      <td>6</td>\n",
       "      <td>0.000000</td>\n",
       "      <td>0.000000</td>\n",
       "    </tr>\n",
       "    <tr>\n",
       "      <th>3</th>\n",
       "      <td>3</td>\n",
       "      <td>4</td>\n",
       "      <td>0.000000</td>\n",
       "      <td>0.000000</td>\n",
       "    </tr>\n",
       "  </tbody>\n",
       "</table>\n",
       "</div>"
      ],
      "text/plain": [
       "  arm       conversion     reward\n",
       "      count       mean       mean\n",
       "0   0    86   0.139535  11.860465\n",
       "1   1     4   0.250000  18.750000\n",
       "2   2     6   0.000000   0.000000\n",
       "3   3     4   0.000000   0.000000"
      ]
     },
     "execution_count": 84,
     "metadata": {},
     "output_type": "execute_result"
    }
   ],
   "source": [
    "latest_performance"
   ]
  },
  {
   "cell_type": "code",
   "execution_count": 76,
   "metadata": {},
   "outputs": [
    {
     "data": {
      "text/html": [
       "<div>\n",
       "<style scoped>\n",
       "    .dataframe tbody tr th:only-of-type {\n",
       "        vertical-align: middle;\n",
       "    }\n",
       "\n",
       "    .dataframe tbody tr th {\n",
       "        vertical-align: top;\n",
       "    }\n",
       "\n",
       "    .dataframe thead th {\n",
       "        text-align: right;\n",
       "    }\n",
       "</style>\n",
       "<table border=\"1\" class=\"dataframe\">\n",
       "  <thead>\n",
       "    <tr style=\"text-align: right;\">\n",
       "      <th></th>\n",
       "      <th>arm</th>\n",
       "      <th>conversion</th>\n",
       "      <th>reward</th>\n",
       "    </tr>\n",
       "  </thead>\n",
       "  <tbody>\n",
       "    <tr>\n",
       "      <th>0</th>\n",
       "      <td>0</td>\n",
       "      <td>0.139535</td>\n",
       "      <td>11.860465</td>\n",
       "    </tr>\n",
       "    <tr>\n",
       "      <th>1</th>\n",
       "      <td>1</td>\n",
       "      <td>0.250000</td>\n",
       "      <td>18.750000</td>\n",
       "    </tr>\n",
       "    <tr>\n",
       "      <th>2</th>\n",
       "      <td>2</td>\n",
       "      <td>0.000000</td>\n",
       "      <td>0.000000</td>\n",
       "    </tr>\n",
       "    <tr>\n",
       "      <th>3</th>\n",
       "      <td>3</td>\n",
       "      <td>0.000000</td>\n",
       "      <td>0.000000</td>\n",
       "    </tr>\n",
       "  </tbody>\n",
       "</table>\n",
       "</div>"
      ],
      "text/plain": [
       "   arm  conversion     reward\n",
       "0    0    0.139535  11.860465\n",
       "1    1    0.250000  18.750000\n",
       "2    2    0.000000   0.000000\n",
       "3    3    0.000000   0.000000"
      ]
     },
     "execution_count": 76,
     "metadata": {},
     "output_type": "execute_result"
    }
   ],
   "source": [
    "latest_performance = users.groupby([\"arm\"]).mean([\"conversion\",\"reward\"])\n",
    "prev_counts = starting_counts\n",
    "next_counts = [i for i,j in zip(prev_counts, )]"
   ]
  },
  {
   "cell_type": "code",
   "execution_count": 64,
   "metadata": {},
   "outputs": [],
   "source": [
    "results = pd.DataFrame(columns=[\"sim\",\"arm\",\"conversion\",\"reward\"])\n",
    "\n",
    "for i in range(100):\n",
    "    # generate 100 users\n",
    "    users = pd.DataFrame(\n",
    "        data={\n",
    "            \"ID\": range(0,100)\n",
    "        }\n",
    "    )\n",
    "\n",
    "    # simulate user outcomes\n",
    "    users[\"arm\"] = [algo.select_arm() for i in users[\"ID\"]]\n",
    "    users[\"conversion\"] = [arms[i].draw() for i in users[\"arm\"]]\n",
    "    users[\"reward\"] = [true_rewards[i]*j for i,j in zip(users[\"arm\"], users[\"conversion\"])]\n",
    "    latest_performance = users.groupby([\"arm\"]).mean([\"conversion\",\"reward\"]).reset_index()[[\"arm\",\"conversion\",\"reward\"]]\n",
    "    latest_performance[\"sim\"] = i\n",
    "\n",
    "    # save latest performance\n",
    "    results = pd.concat([results, latest_performance])\n",
    "    \n",
    "    # update assumptions for bandit\n",
    "    algo = EpsilonGreedy(\n",
    "        epsilon=0.2,\n",
    "        n_arms=4,\n",
    "        rewards= obs_rewards,\n",
    "        conv_rates=obs_conv_rates,\n",
    "        counts=[1, 1, 1, 1]\n",
    "    )"
   ]
  },
  {
   "cell_type": "code",
   "execution_count": 75,
   "metadata": {},
   "outputs": [
    {
     "data": {
      "text/html": [
       "<div>\n",
       "<style scoped>\n",
       "    .dataframe tbody tr th:only-of-type {\n",
       "        vertical-align: middle;\n",
       "    }\n",
       "\n",
       "    .dataframe tbody tr th {\n",
       "        vertical-align: top;\n",
       "    }\n",
       "\n",
       "    .dataframe thead th {\n",
       "        text-align: right;\n",
       "    }\n",
       "</style>\n",
       "<table border=\"1\" class=\"dataframe\">\n",
       "  <thead>\n",
       "    <tr style=\"text-align: right;\">\n",
       "      <th></th>\n",
       "      <th>arm</th>\n",
       "      <th>conversion</th>\n",
       "      <th>reward</th>\n",
       "    </tr>\n",
       "  </thead>\n",
       "  <tbody>\n",
       "    <tr>\n",
       "      <th>0</th>\n",
       "      <td>0</td>\n",
       "      <td>0.139535</td>\n",
       "      <td>11.860465</td>\n",
       "    </tr>\n",
       "    <tr>\n",
       "      <th>1</th>\n",
       "      <td>1</td>\n",
       "      <td>0.250000</td>\n",
       "      <td>18.750000</td>\n",
       "    </tr>\n",
       "    <tr>\n",
       "      <th>2</th>\n",
       "      <td>2</td>\n",
       "      <td>0.000000</td>\n",
       "      <td>0.000000</td>\n",
       "    </tr>\n",
       "    <tr>\n",
       "      <th>3</th>\n",
       "      <td>3</td>\n",
       "      <td>0.000000</td>\n",
       "      <td>0.000000</td>\n",
       "    </tr>\n",
       "  </tbody>\n",
       "</table>\n",
       "</div>"
      ],
      "text/plain": [
       "   arm  conversion     reward\n",
       "0    0    0.139535  11.860465\n",
       "1    1    0.250000  18.750000\n",
       "2    2    0.000000   0.000000\n",
       "3    3    0.000000   0.000000"
      ]
     },
     "execution_count": 75,
     "metadata": {},
     "output_type": "execute_result"
    }
   ],
   "source": []
  },
  {
   "attachments": {},
   "cell_type": "markdown",
   "metadata": {},
   "source": [
    "##### Gather conversion rates and update assumptions"
   ]
  },
  {
   "attachments": {},
   "cell_type": "markdown",
   "metadata": {},
   "source": [
    "new"
   ]
  }
 ],
 "metadata": {
  "kernelspec": {
   "display_name": "Python 3",
   "language": "python",
   "name": "python3"
  },
  "language_info": {
   "codemirror_mode": {
    "name": "ipython",
    "version": 3
   },
   "file_extension": ".py",
   "mimetype": "text/x-python",
   "name": "python",
   "nbconvert_exporter": "python",
   "pygments_lexer": "ipython3",
   "version": "3.10.0 (default, Nov 17 2021, 14:14:34) [Clang 13.0.0 (clang-1300.0.29.3)]"
  },
  "orig_nbformat": 4,
  "vscode": {
   "interpreter": {
    "hash": "ea1f1b75962e8479cdd31f745f7b88aa0f718a153ab100a859b7ce2822faba81"
   }
  }
 },
 "nbformat": 4,
 "nbformat_minor": 2
}
