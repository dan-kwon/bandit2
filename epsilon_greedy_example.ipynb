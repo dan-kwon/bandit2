{
 "cells": [
  {
   "cell_type": "code",
   "execution_count": 108,
   "metadata": {},
   "outputs": [],
   "source": [
    "import random\n",
    "from src.bandit.algorithms.standard import EpsilonGreedy\n",
    "from src.bandit.arms.bernoulli import BernoulliArm\n",
    "from src.bandit.simulation.monte_carlo import test_algorithm"
   ]
  },
  {
   "cell_type": "code",
   "execution_count": 110,
   "metadata": {},
   "outputs": [
    {
     "ename": "TypeError",
     "evalue": "EpsilonGreedy.__init__() missing 2 required positional arguments: 'counts' and 'values'",
     "output_type": "error",
     "traceback": [
      "\u001b[0;31m---------------------------------------------------------------------------\u001b[0m",
      "\u001b[0;31mTypeError\u001b[0m                                 Traceback (most recent call last)",
      "\u001b[1;32m/Users/danielkwon/Projects/bandit/epsilon_greedy_example.ipynb Cell 2\u001b[0m in \u001b[0;36m<cell line: 1>\u001b[0;34m()\u001b[0m\n\u001b[0;32m----> <a href='vscode-notebook-cell:/Users/danielkwon/Projects/bandit/epsilon_greedy_example.ipynb#X13sZmlsZQ%3D%3D?line=0'>1</a>\u001b[0m EpsilonGreedy(\u001b[39m0.2\u001b[39;49m)\n",
      "\u001b[0;31mTypeError\u001b[0m: EpsilonGreedy.__init__() missing 2 required positional arguments: 'counts' and 'values'"
     ]
    }
   ],
   "source": [
    "EpsilonGreedy(0.2)"
   ]
  },
  {
   "cell_type": "code",
   "execution_count": 53,
   "metadata": {},
   "outputs": [],
   "source": [
    "discounts = [0.4, 0.3, 0.2, 0.1, 0.0] # discount offered in each arm\n",
    "means = [0.015, 0.01, 0.008, 0.005, 0.005] # probability of conversion for each corresponding discount\n",
    "n_arms = len(means)\n",
    "random.shuffle(means)\n",
    "arms = [BernoulliArm(i) for i in means]"
   ]
  },
  {
   "cell_type": "code",
   "execution_count": null,
   "metadata": {},
   "outputs": [],
   "source": [
    "for epsilon in [0.1, 0.2, 0.3, 0.4]:\n",
    "    algo = EpsilonGreedy(epsilon,[],[])\n",
    "    algo.initialize(n_arms)\n",
    "    results = test_algorithm(algo, arms, 5000, 250)"
   ]
  }
 ],
 "metadata": {
  "kernelspec": {
   "display_name": "Python 3",
   "language": "python",
   "name": "python3"
  },
  "language_info": {
   "codemirror_mode": {
    "name": "ipython",
    "version": 3
   },
   "file_extension": ".py",
   "mimetype": "text/x-python",
   "name": "python",
   "nbconvert_exporter": "python",
   "pygments_lexer": "ipython3",
   "version": "3.10.0"
  },
  "orig_nbformat": 4,
  "vscode": {
   "interpreter": {
    "hash": "ea1f1b75962e8479cdd31f745f7b88aa0f718a153ab100a859b7ce2822faba81"
   }
  }
 },
 "nbformat": 4,
 "nbformat_minor": 2
}
